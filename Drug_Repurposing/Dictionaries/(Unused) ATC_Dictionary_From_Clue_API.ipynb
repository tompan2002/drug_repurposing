{
 "cells": [
  {
   "cell_type": "markdown",
   "id": "efb52f65",
   "metadata": {},
   "source": [
    "An ATC to pert_id dictionary was also created using data from the Clue.io API, however, this method returned fewer results than the other dictionary (~500 results); as such, the other dictionary was used instead."
   ]
  },
  {
   "cell_type": "code",
   "execution_count": null,
   "id": "61b9efbf",
   "metadata": {},
   "outputs": [],
   "source": [
    "import pandas as pd\n",
    "import numpy as np\n",
    "import time\n",
    "import requests\n",
    "\n",
    "atc_to_cid = pd.read_csv(\"C:/Users/tp36t/Desktop/Research/atc_to_cid.csv\")\n",
    "cids = atc_to_cid[\"cids\"]\n",
    "cid_list = cids.tolist()\n",
    "lst = []\n",
    "\n",
    "for i in range(len(cid_list)):\n",
    "    r = requests.get(\"https://api.clue.io/api/perts?filter={%22where%22:{%22pubchem_cid%22:%22\"+ str(cid_list[i]) + \"%22}}&user_key=6c4e68f7a06fae234d31865b7d98b51d\")\n",
    "    if r:\n",
    "        if (len(r.json()) != 0):\n",
    "            lst.append(r.json())\n",
    "    time.sleep(1)\n",
    "\n",
    "np_lst = np.array(lst)\n",
    "df=pd.DataFrame(data = np_lst)\n",
    "df.to_csv(\"C:/Users/tp36t/Desktop/Research/Dictionary_from_API.csv\")\n",
    "\n",
    "\n",
    "print(len(lst))"
   ]
  },
  {
   "cell_type": "code",
   "execution_count": null,
   "id": "5482bb95",
   "metadata": {},
   "outputs": [],
   "source": []
  }
 ],
 "metadata": {
  "kernelspec": {
   "display_name": "Python 3",
   "language": "python",
   "name": "python3"
  },
  "language_info": {
   "codemirror_mode": {
    "name": "ipython",
    "version": 3
   },
   "file_extension": ".py",
   "mimetype": "text/x-python",
   "name": "python",
   "nbconvert_exporter": "python",
   "pygments_lexer": "ipython3",
   "version": "3.9.5"
  }
 },
 "nbformat": 4,
 "nbformat_minor": 5
}
