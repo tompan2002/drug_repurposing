{
 "cells": [
  {
   "cell_type": "markdown",
   "id": "f73f67ab",
   "metadata": {},
   "source": [
    "# ATC Code Counter"
   ]
  },
  {
   "cell_type": "markdown",
   "id": "8721f6ba",
   "metadata": {},
   "source": [
    "This script counts the number of occurence of each ATC subclass from the ATC dictionary. Here, it is being demonstrated on the L01 dataset. The user will need to manually update the for loop to correspond with each drug class (however this can easily be improved later). The main use of the script is to determine the sample size of different drug subclasses so the largest ones can be analyzed."
   ]
  },
  {
   "cell_type": "code",
   "execution_count": null,
   "id": "e2979dfa",
   "metadata": {},
   "outputs": [],
   "source": [
    "import pandas as pd\n",
    "import numpy as np\n",
    "from cmapPy.pandasGEXpress.parse import parse\n",
    "\n",
    "L01_gctoo = parse(\"C:/Users/tp36t/Desktop/Research/L01_gctoo.gctx\")\n",
    "\n",
    "df = L01_gctoo.data_df\n",
    "df = df.T\n",
    "print(df.shape)\n",
    "\n",
    "sig_info = pd.read_csv(\"C:/Users/tp36t/Desktop/Research/siginfo_beta.txt\", sep = \"\\t\", dtype=str)\n",
    "dictionary = pd.read_csv(\"C:/Users/tp36t/Desktop/Research/ATC_to_pert_id_dictionary.txt\")\n",
    "\n",
    "def sig_id_to_ATC(sig_id):\n",
    "    pert_id = sig_info.loc[sig_info[\"sig_id\"] == sig_id, \"pert_id\"].values[0]\n",
    "    #pert_id = sig_info_entry.pert_id.values[0]\n",
    "    ATC = dictionary.loc[dictionary.pert_id == pert_id, \"ATC_Code\"].values[0]\n",
    "    #ATC = dict_entry.ATC_Code.values[0]\n",
    "    return ATC\n",
    "\n",
    "sig_ids = df.index.values\n",
    "\n",
    "\n",
    "is_of_interest = []\n",
    "for id in sig_ids:\n",
    "    if sig_id_to_ATC(id).startswith(\"L01A\"):\n",
    "        is_of_interest.append(\"A\")\n",
    "    elif sig_id_to_ATC(id).startswith(\"L01B\"):\n",
    "        is_of_interest.append(\"B\")\n",
    "    elif sig_id_to_ATC(id).startswith(\"L01C\"):\n",
    "        is_of_interest.append(\"C\")\n",
    "    elif sig_id_to_ATC(id).startswith(\"L01D\"):\n",
    "        is_of_interest.append(\"D\")\n",
    "    elif sig_id_to_ATC(id).startswith(\"L01E\"):\n",
    "        is_of_interest.append(\"E\")\n",
    "\n",
    "is_of_interest_array = np.array(is_of_interest)\n",
    "unique, counts = np.unique(is_of_interest_array, return_counts=True)\n",
    "print(dict(zip(unique, counts)))"
   ]
  }
 ],
 "metadata": {
  "kernelspec": {
   "display_name": "Python 3",
   "language": "python",
   "name": "python3"
  },
  "language_info": {
   "codemirror_mode": {
    "name": "ipython",
    "version": 3
   },
   "file_extension": ".py",
   "mimetype": "text/x-python",
   "name": "python",
   "nbconvert_exporter": "python",
   "pygments_lexer": "ipython3",
   "version": "3.9.5"
  }
 },
 "nbformat": 4,
 "nbformat_minor": 5
}
