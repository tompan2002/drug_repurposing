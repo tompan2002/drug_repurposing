{
 "cells": [
  {
   "cell_type": "markdown",
   "id": "ba2a230a",
   "metadata": {},
   "source": [
    "# Parsing gctx for Specified Perturbagens"
   ]
  },
  {
   "cell_type": "markdown",
   "id": "b7df7960",
   "metadata": {},
   "source": [
    "This is a server-side script meant to parse the large gctx file for the signatures corresponding to selecte perturbagens."
   ]
  },
  {
   "cell_type": "code",
   "execution_count": 1,
   "id": "5777e66c",
   "metadata": {},
   "outputs": [],
   "source": [
    "import pandas as pd\n",
    "from cmapPy.pandasGEXpress.parse import parse\n",
    "import cmapPy.pandasGEXpress.write_gctx as wg"
   ]
  },
  {
   "cell_type": "markdown",
   "id": "597b60f3",
   "metadata": {},
   "source": [
    "Parsing C02 Antihypersensitives data"
   ]
  },
  {
   "cell_type": "code",
   "execution_count": 2,
   "id": "b7b44fa6",
   "metadata": {},
   "outputs": [],
   "source": [
    "C02_sig_ids = pd.read_csv(\"antihypersensitives.csv\")\n",
    "cids = C02_sig_ids.sig_id # parse function takes in a series for cid\n",
    "C01_gctoo = parse(\"level5_beta_trt_cp_n720216x12328.gctx\", cid = cids)\n",
    "wg.write(C01_gctoo, \"C02_gctoo\")"
   ]
  },
  {
   "cell_type": "markdown",
   "id": "1df959fa",
   "metadata": {},
   "source": [
    "Parsing L01 Antineoplastic Agents data"
   ]
  },
  {
   "cell_type": "code",
   "execution_count": 3,
   "id": "ba0def66",
   "metadata": {},
   "outputs": [
    {
     "name": "stderr",
     "output_type": "stream",
     "text": [
      "The given path to the gctx file cannot be found. full_path: level5_beta_trt_cp_n720216x12328.gctx\n"
     ]
    },
    {
     "ename": "Exception",
     "evalue": "The given path to the gctx file cannot be found. full_path: level5_beta_trt_cp_n720216x12328.gctx",
     "output_type": "error",
     "traceback": [
      "\u001b[1;31m---------------------------------------------------------------------------\u001b[0m",
      "\u001b[1;31mException\u001b[0m                                 Traceback (most recent call last)",
      "\u001b[1;32m<ipython-input-3-85279765119b>\u001b[0m in \u001b[0;36m<module>\u001b[1;34m\u001b[0m\n\u001b[0;32m      1\u001b[0m \u001b[0mL01_sig_ids\u001b[0m \u001b[1;33m=\u001b[0m \u001b[0mpd\u001b[0m\u001b[1;33m.\u001b[0m\u001b[0mread_csv\u001b[0m\u001b[1;33m(\u001b[0m\u001b[1;34m\"antineoplastics.csv\"\u001b[0m\u001b[1;33m)\u001b[0m\u001b[1;33m\u001b[0m\u001b[1;33m\u001b[0m\u001b[0m\n\u001b[0;32m      2\u001b[0m \u001b[0mcids\u001b[0m \u001b[1;33m=\u001b[0m \u001b[0mL01_sig_ids\u001b[0m\u001b[1;33m.\u001b[0m\u001b[0msig_id\u001b[0m \u001b[1;31m# parse function takes in a series for cid\u001b[0m\u001b[1;33m\u001b[0m\u001b[1;33m\u001b[0m\u001b[0m\n\u001b[1;32m----> 3\u001b[1;33m \u001b[0mL01_gctoo\u001b[0m \u001b[1;33m=\u001b[0m \u001b[0mparse\u001b[0m\u001b[1;33m(\u001b[0m\u001b[1;34m\"level5_beta_trt_cp_n720216x12328.gctx\"\u001b[0m\u001b[1;33m,\u001b[0m \u001b[0mcid\u001b[0m \u001b[1;33m=\u001b[0m \u001b[0mcids\u001b[0m\u001b[1;33m)\u001b[0m\u001b[1;33m\u001b[0m\u001b[1;33m\u001b[0m\u001b[0m\n\u001b[0m\u001b[0;32m      4\u001b[0m \u001b[0mwg\u001b[0m\u001b[1;33m.\u001b[0m\u001b[0mwrite\u001b[0m\u001b[1;33m(\u001b[0m\u001b[0mL01_gctoo\u001b[0m\u001b[1;33m,\u001b[0m \u001b[1;34m\"L01_gctoo\"\u001b[0m\u001b[1;33m)\u001b[0m\u001b[1;33m\u001b[0m\u001b[1;33m\u001b[0m\u001b[0m\n",
      "\u001b[1;32m~\\.conda\\envs\\cmapPy3\\lib\\site-packages\\cmapPy\\pandasGEXpress\\parse.py\u001b[0m in \u001b[0;36mparse\u001b[1;34m(file_path, convert_neg_666, rid, cid, ridx, cidx, row_meta_only, col_meta_only, make_multiindex)\u001b[0m\n\u001b[0;32m     63\u001b[0m \u001b[1;33m\u001b[0m\u001b[0m\n\u001b[0;32m     64\u001b[0m     \u001b[1;32melif\u001b[0m \u001b[0mfile_path\u001b[0m\u001b[1;33m.\u001b[0m\u001b[0mendswith\u001b[0m\u001b[1;33m(\u001b[0m\u001b[1;34m\".gctx\"\u001b[0m\u001b[1;33m)\u001b[0m\u001b[1;33m:\u001b[0m\u001b[1;33m\u001b[0m\u001b[1;33m\u001b[0m\u001b[0m\n\u001b[1;32m---> 65\u001b[1;33m         out = parse_gctx.parse(file_path, convert_neg_666=convert_neg_666,\n\u001b[0m\u001b[0;32m     66\u001b[0m                               \u001b[0mrid\u001b[0m\u001b[1;33m=\u001b[0m\u001b[0mrid\u001b[0m\u001b[1;33m,\u001b[0m \u001b[0mcid\u001b[0m\u001b[1;33m=\u001b[0m\u001b[0mcid\u001b[0m\u001b[1;33m,\u001b[0m \u001b[0mridx\u001b[0m\u001b[1;33m=\u001b[0m\u001b[0mridx\u001b[0m\u001b[1;33m,\u001b[0m \u001b[0mcidx\u001b[0m\u001b[1;33m=\u001b[0m\u001b[0mcidx\u001b[0m\u001b[1;33m,\u001b[0m\u001b[1;33m\u001b[0m\u001b[1;33m\u001b[0m\u001b[0m\n\u001b[0;32m     67\u001b[0m                               \u001b[0mrow_meta_only\u001b[0m\u001b[1;33m=\u001b[0m\u001b[0mrow_meta_only\u001b[0m\u001b[1;33m,\u001b[0m \u001b[0mcol_meta_only\u001b[0m\u001b[1;33m=\u001b[0m\u001b[0mcol_meta_only\u001b[0m\u001b[1;33m,\u001b[0m\u001b[1;33m\u001b[0m\u001b[1;33m\u001b[0m\u001b[0m\n",
      "\u001b[1;32m~\\.conda\\envs\\cmapPy3\\lib\\site-packages\\cmapPy\\pandasGEXpress\\parse_gctx.py\u001b[0m in \u001b[0;36mparse\u001b[1;34m(gctx_file_path, convert_neg_666, rid, cid, ridx, cidx, row_meta_only, col_meta_only, make_multiindex)\u001b[0m\n\u001b[0;32m     63\u001b[0m         \u001b[0merr_msg\u001b[0m \u001b[1;33m=\u001b[0m \u001b[1;34m\"The given path to the gctx file cannot be found. full_path: {}\"\u001b[0m\u001b[1;33m\u001b[0m\u001b[1;33m\u001b[0m\u001b[0m\n\u001b[0;32m     64\u001b[0m         \u001b[0mlogger\u001b[0m\u001b[1;33m.\u001b[0m\u001b[0merror\u001b[0m\u001b[1;33m(\u001b[0m\u001b[0merr_msg\u001b[0m\u001b[1;33m.\u001b[0m\u001b[0mformat\u001b[0m\u001b[1;33m(\u001b[0m\u001b[0mfull_path\u001b[0m\u001b[1;33m)\u001b[0m\u001b[1;33m)\u001b[0m\u001b[1;33m\u001b[0m\u001b[1;33m\u001b[0m\u001b[0m\n\u001b[1;32m---> 65\u001b[1;33m         \u001b[1;32mraise\u001b[0m \u001b[0mException\u001b[0m\u001b[1;33m(\u001b[0m\u001b[0merr_msg\u001b[0m\u001b[1;33m.\u001b[0m\u001b[0mformat\u001b[0m\u001b[1;33m(\u001b[0m\u001b[0mfull_path\u001b[0m\u001b[1;33m)\u001b[0m\u001b[1;33m)\u001b[0m\u001b[1;33m\u001b[0m\u001b[1;33m\u001b[0m\u001b[0m\n\u001b[0m\u001b[0;32m     66\u001b[0m     \u001b[0mlogger\u001b[0m\u001b[1;33m.\u001b[0m\u001b[0minfo\u001b[0m\u001b[1;33m(\u001b[0m\u001b[1;34m\"Reading GCTX: {}\"\u001b[0m\u001b[1;33m.\u001b[0m\u001b[0mformat\u001b[0m\u001b[1;33m(\u001b[0m\u001b[0mfull_path\u001b[0m\u001b[1;33m)\u001b[0m\u001b[1;33m)\u001b[0m\u001b[1;33m\u001b[0m\u001b[1;33m\u001b[0m\u001b[0m\n\u001b[0;32m     67\u001b[0m \u001b[1;33m\u001b[0m\u001b[0m\n",
      "\u001b[1;31mException\u001b[0m: The given path to the gctx file cannot be found. full_path: level5_beta_trt_cp_n720216x12328.gctx"
     ]
    }
   ],
   "source": [
    "L01_sig_ids = pd.read_csv(\"antineoplastics.csv\")\n",
    "cids = L01_sig_ids.sig_id # parse function takes in a series for cid\n",
    "L01_gctoo = parse(\"level5_beta_trt_cp_n720216x12328.gctx\", cid = cids)\n",
    "wg.write(L01_gctoo, \"L01_gctoo\")"
   ]
  },
  {
   "cell_type": "code",
   "execution_count": null,
   "id": "489d2720",
   "metadata": {},
   "outputs": [],
   "source": []
  }
 ],
 "metadata": {
  "kernelspec": {
   "display_name": "Python 3",
   "language": "python",
   "name": "python3"
  },
  "language_info": {
   "codemirror_mode": {
    "name": "ipython",
    "version": 3
   },
   "file_extension": ".py",
   "mimetype": "text/x-python",
   "name": "python",
   "nbconvert_exporter": "python",
   "pygments_lexer": "ipython3",
   "version": "3.9.5"
  }
 },
 "nbformat": 4,
 "nbformat_minor": 5
}
